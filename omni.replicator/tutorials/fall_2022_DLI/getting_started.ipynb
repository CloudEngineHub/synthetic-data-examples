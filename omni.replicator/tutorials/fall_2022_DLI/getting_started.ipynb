{
 "cells": [
  {
   "cell_type": "markdown",
   "id": "ad8724fc",
   "metadata": {},
   "source": [
    "<a href=\"https://www.nvidia.com/dli\"> <img src=\"images/DLI_Header.png\" alt=\"Header\" style=\"width: 400px;\"/> </a>"
   ]
  },
  {
   "cell_type": "markdown",
   "id": "3e0d5ee0",
   "metadata": {
    "tags": []
   },
   "source": [
    "# Welcome!\n",
    "In this workshop, you'll learn how to generate synthetic data with Omniverse Replicator Framework. Omniverse Replicator is a highly extensible framework built on a scalable Omniverse platform that enables physically accurate 3D synthetic data generation to accelerate training and performance of AI perception networks.  \n",
    "\n",
    "The best experience is to run Replicator from a local desktop RTX GPU workstation.  However, for this workshop you won't need a GPU RTX on your desk.  Instead, a GPU RTX instance is provided in the cloud, which you can connect to from your computer by installing the Omniverse Streaming Client, which does not require an RTX workstation."
   ]
  },
  {
   "cell_type": "markdown",
   "id": "2315d834-ad09-4165-99c3-a4a270ac0799",
   "metadata": {
    "tags": []
   },
   "source": [
    "### Getting Started - Connecting to Omniverse Code\n",
    "In this notebook, you'll learn how to connect to an Omniverse Code instance GUI in the cloud using a local Omniverse Streaming Client installed on your own Windows or Linux computer. "
   ]
  },
  {
   "cell_type": "markdown",
   "id": "1bd7bb6c-1d69-445d-a8ac-ed7686c02619",
   "metadata": {},
   "source": [
    "<!-- TOC -->\n",
    "**[Notebook Prerequisites](#Notebook-Prerequisites)<br>**\n",
    "**[1.0 Getting Started](#1.0-Getting-Started)<br>**\n",
    "**[1.1 Connect to Omniverse Nucleus](#1.1-Connect-to-Omniverse-Nucleus)<br>**"
   ]
  },
  {
   "cell_type": "markdown",
   "id": "3e5007b1",
   "metadata": {},
   "source": [
    "---\n",
    "# Notebook Prerequisites\n",
    "You must install Omniverse Launcher and Omniverse Streaming Client on your Windows or Linux computer.  If you have not done so already, please:\n",
    "1. [Install Omniverse Launcher](https://docs.omniverse.nvidia.com/prod_launcher/prod_launcher/installing_launcher.html)\n",
    "1. [Install Omniverse Streaming Client](https://docs.omniverse.nvidia.com/app_streaming-client/app_streaming-client/user-manual.html#using-omniverse-streaming-client)"
   ]
  },
  {
   "cell_type": "markdown",
   "id": "c66bbba7",
   "metadata": {},
   "source": [
    "---\n",
    "# 1.0 Getting Started\n",
    "\n",
    "Now that you've installed the Omniverse Streaming Client on your local machine, let's make sure the Omniverse Code server is up and running before trying to connect.  We can do a quick check by looking at the server logs. Execute the following cell to find the logfile name.  (You can execute the cell by either clicking the triangle in the menu above or by pressing [SHIFT][ENTER] on the cell.)"
   ]
  },
  {
   "cell_type": "code",
   "execution_count": null,
   "id": "7e06ef52",
   "metadata": {},
   "outputs": [],
   "source": [
    "# get logfile name - wait 10 seconds for loading\n",
    "import glob, time\n",
    "\n",
    "LOADED_STRING = \"switching to 1x1 layout\"\n",
    "LOGFILE=\"\"\n",
    "while LOGFILE == \"\":\n",
    "    try:\n",
    "        LOGFILE = glob.glob(\"/root/.nvidia-omniverse/logs/Kit/Code/*/*.log\")[0]\n",
    "    except:\n",
    "        print(\"Wait 10 seconds...\")\n",
    "        time.sleep(10)\n",
    "print(\"Logfile is {}\".format(LOGFILE))"
   ]
  },
  {
   "cell_type": "markdown",
   "id": "61c3627f",
   "metadata": {},
   "source": [
    "Execute the following cell to wait for the server. Estimated time for this step is **2 minutes** after the initial course launch."
   ]
  },
  {
   "cell_type": "code",
   "execution_count": null,
   "id": "943d4397",
   "metadata": {},
   "outputs": [],
   "source": [
    "# function to test for string in a file\n",
    "def check_file(filename, my_string):\n",
    "    with open(filename) as f:\n",
    "        if my_string in f.read():\n",
    "            return True\n",
    "    return False\n",
    "        \n",
    "# server wait loop\n",
    "import time\n",
    "while check_file(LOGFILE, LOADED_STRING) is False:\n",
    "    print(\"Not ready; trying again in 30 seconds\")\n",
    "    time.sleep(30)\n",
    "print(\"Server ready!\")"
   ]
  },
  {
   "cell_type": "markdown",
   "id": "4197654e",
   "metadata": {},
   "source": [
    "To connect, you'll need to know the IP address of the Omniverse Code server.  Execute the following cell to get the address. "
   ]
  },
  {
   "cell_type": "code",
   "execution_count": null,
   "id": "4d698bfe",
   "metadata": {},
   "outputs": [],
   "source": [
    "from requests import get\n",
    "ip=get('https://api.ipify.org').text\n",
    "print('This instance IP address is: {}'.format(ip))"
   ]
  },
  {
   "cell_type": "markdown",
   "id": "02b1f1dc",
   "metadata": {},
   "source": [
    "Once the server is ready, open the Omniverse Launcher on your computer and navigate to the \"Library\" tab.  Select the Streaming Client and click the launch button.  A window will open with a form.  Paste your server IP, select the resolution you prefer, and click \"CONNECT\".\n",
    "\n",
    "<img src=\"images/streaming_client_form.png\">\n",
    "\n",
    "The Omniverse interface will open up!"
   ]
  },
  {
   "cell_type": "markdown",
   "id": "b1ef55f8-9351-456e-8475-791671a9dee9",
   "metadata": {
    "tags": []
   },
   "source": [
    "---\n",
    "# Connect to Omniverse Nucleus\n",
    "[Omniverse Nucleus](https://docs.omniverse.nvidia.com/prod_nucleus/prod_nucleus/overview.html) is the database and collaboration engine of Omniverse. With Omniverse Nucleus, teams can have multiple users connected together live with multiple applications all at once. This allows people to use the application they are the most comfortable and quickest with and really opens a lot of doors for rapid iteration.  For this course, you'll connect to a read-only instance with access to standard assets.  To connect, click \"Add New Connection\" in the GUI (Content/Omniverse).  Type in the URL address of the DLI Nucleus Server: **ove-nucleus.courses.nvidia.com**<br>\n",
    "\n",
    "<img src=\"images/add_nucleus.png\">\n",
    "\n"
   ]
  },
  {
   "cell_type": "markdown",
   "id": "129ed796-2553-48b7-b1dd-cdf5e0426cb9",
   "metadata": {
    "tags": []
   },
   "source": [
    "---\n",
    "<h2 style=\"color:green;\">Congratulations!</h2>\n",
    "\n",
    "In this notebook, you learned how to:\n",
    "* Connect to Omniverse Code in the cloud from Omniverse Streaming Client on your computer\n",
    "* Connect to Omniverse Nucleus from the Omniverse Code GUI\n",
    "\n",
    "Move on to the [\"Hello Replicator!\" notebook](hello_replicator.ipynb) to learn how to use Omniverse Replicator."
   ]
  },
  {
   "cell_type": "markdown",
   "id": "2c04528c",
   "metadata": {},
   "source": [
    "<a href=\"https://www.nvidia.com/dli\"> <img src=\"images/DLI_Header.png\" alt=\"Header\" style=\"width: 400px;\"/> </a>"
   ]
  }
 ],
 "metadata": {
  "kernelspec": {
   "display_name": "Python 3.10.6 64-bit ('3.10.6')",
   "language": "python",
   "name": "python3"
  },
  "language_info": {
   "codemirror_mode": {
    "name": "ipython",
    "version": 3
   },
   "file_extension": ".py",
   "mimetype": "text/x-python",
   "name": "python",
   "nbconvert_exporter": "python",
   "pygments_lexer": "ipython3",
   "version": "3.10.6"
  },
  "vscode": {
   "interpreter": {
    "hash": "6e75d9671bde9e237d0449067a77b1b23886bc055a4cc69b493f52615e9e42e3"
   }
  }
 },
 "nbformat": 4,
 "nbformat_minor": 5
}
