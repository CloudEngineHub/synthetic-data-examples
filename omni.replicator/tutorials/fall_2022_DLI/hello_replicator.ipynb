{
 "cells": [
  {
   "cell_type": "markdown",
   "id": "7925aad5",
   "metadata": {},
   "source": [
    "<a href=\"https://www.nvidia.com/dli\"> <img src=\"images/DLI_Header.png\" alt=\"Header\" style=\"width: 400px;\"/> </a>"
   ]
  },
  {
   "cell_type": "markdown",
   "id": "9d578eea",
   "metadata": {},
   "source": [
    "# Hello Replicator!\n",
    "\n",
    "The goal of this tutorial is to provide an introduction to the basic Omniverse Replicator functionalities.  In this notebook, we'll step through:\n",
    "1. Creating a simple scene with a few predefined 3D assets\n",
    "2. Applying randomizations\n",
    "3. Writing the generated images to the disk for further processing\n",
    "\n",
    "<span style=\"color:red;\">TODO: add image that characterizes the notebook</span>\n",
    "\n",
    "**[1.0 Hello World Replicator](#1.0-Hello-World-Replicator)<br>**\n",
    "**[2.0 Basic Randomizations with Replicator](#2.0-Basic-Randomizations-with-Replicator)<br>**\n",
    "&nbsp;&nbsp;&nbsp;&nbsp;[2.1 Background Randomization](#2.1-Background-Randomization)<br>\n",
    "&nbsp;&nbsp;&nbsp;&nbsp;[2.2 Change Textures](#2.2-Change-Textures)<br>\n",
    "**[3.0 Advanced Randomization and Challenge](#3.0-Advanced-Randomization-and-Challenge)<br>**\n",
    "&nbsp;&nbsp;&nbsp;&nbsp;[3.1 Importing multiple assets from designated folder at once](#3.1-Importing-multiple-assets-from-designated-folder-at-once)<br>\n",
    "&nbsp;&nbsp;&nbsp;&nbsp;[3.2 Add variety of furniture and semantically label them](#3.2-Add-variety-of-furniture-and-semantically-label-them)<br>\n",
    "&nbsp;&nbsp;&nbsp;&nbsp;[3.3 Exercise: Choose a variety of 5 furniture with labels, randomize their rotations, placements and the camera](#3.3-Exercise:)<br>\n",
    "&nbsp;&nbsp;&nbsp;&nbsp;[3.4 Suggested Solution to 3.3](#3.4)<br>"
   ]
  },
  {
   "cell_type": "markdown",
   "id": "fe698c3d",
   "metadata": {},
   "source": [
    "---\n",
    "# 1.0 Hello World Replicator\n",
    "\n",
    "[Omniverse Replicator](https://docs.omniverse.nvidia.com/prod_extensions/prod_extensions/ext_replicator.html) is a highly extensible framework that enables physically accurate 3D synthetic data generation to accelerate training and performance of AI perception networks. You can run Replicator from within the Omniverse Code application, which can be run from a desktop RTX GPU workstation.  \n",
    "\n",
    "For the purposes of this workshop, we'll use a cloud-based instance of Omniverse Code running in an RTX GPU instance on the DLI (Deep Learning Institute) platform. Running \n",
    "\n",
    "First, let’s create a new USD layer using `rep.new_layer()` in which we will place and randomize our scene assets.  Layers let us isolate the changes we make to the base stage.\n",
    "\n",
    "We will create a camera in the scene at a desired position. Cameras give us an eye to see into the stage."
   ]
  },
  {
   "cell_type": "code",
   "execution_count": null,
   "id": "b383deec",
   "metadata": {},
   "outputs": [],
   "source": [
    "import omni.replicator.core as rep\n",
    "\n",
    "with rep.new_layer():\n",
    "    camera = rep.create.camera(position=(0, 500, 1000), look_at=(0,0,0))"
   ]
  },
  {
   "cell_type": "markdown",
   "id": "9339adad",
   "metadata": {},
   "source": [
    "Now, let’s create basic 3D shapes for our simple scene. Users can also bring any custom 3D objects they may have already created. The tutorial [Using  Replicator with a fully developed scene](https://docs.omniverse.nvidia.com/prod_extensions/prod_extensions/ext_replicator/apis_with_fully_developed_scene.html) demonstrates the process to bring user generated assets within the scene. Notice when creating the assets, we add semantic data, using the flag `semantics`. These semantic labels are added to the 3D shapes and used for generating annotation data to be used in ML model training."
   ]
  },
  {
   "cell_type": "code",
   "execution_count": null,
   "id": "d31fc43a",
   "metadata": {},
   "outputs": [],
   "source": [
    "import omni.replicator.core as rep\n",
    "\n",
    "with rep.new_layer():\n",
    "    camera = rep.create.camera(position=(0, 500, 1000), look_at=(0,0,0))\n",
    "\n",
    "    # Create simple shapes to manipulate\n",
    "    plane = rep.create.plane(semantics=[('class', 'plane')], position=(0,-100,0), scale=(100,1,100))\n",
    "    torus = rep.create.torus(semantics=[('class', 'torus')] , position=(200, 0 , 100))\n",
    "    sphere = rep.create.sphere(semantics=[('class', 'sphere')], position=(0, 0, 100))\n",
    "    cube = rep.create.cube(semantics=[('class', 'cube')],  position=(-200, 0, 100))"
   ]
  },
  {
   "cell_type": "markdown",
   "id": "a36d878e",
   "metadata": {},
   "source": [
    "We have created a camera, several 3D assets and a plane to constrain those assets. At this point, we are ready to define randomizers with specified distributions (uniform random in this case). In this tutorial, we randomize the position and scale of these assets within the scene.\n",
    "\n",
    "Notice that these randomizations are triggered at every frame event. We will generate 10 frames with randomizations in this example."
   ]
  },
  {
   "cell_type": "code",
   "execution_count": null,
   "id": "f5de0567",
   "metadata": {},
   "outputs": [],
   "source": [
    "import omni.replicator.core as rep\n",
    "\n",
    "with rep.new_layer():\n",
    "    camera = rep.create.camera(position=(0, 500, 1000), look_at=(0,0,0))\n",
    "\n",
    "    # Create simple shapes to manipulate\n",
    "    plane = rep.create.plane(semantics=[('class', 'plane')], position=(0,-100,0), scale=(100,1,100))\n",
    "    torus = rep.create.torus(semantics=[('class', 'torus')] , position=(200, 0 , 100))\n",
    "    sphere = rep.create.sphere(semantics=[('class', 'sphere')], position=(0, 0, 100))\n",
    "    cube = rep.create.cube(semantics=[('class', 'cube')],  position=(-200, 0, 100))\n",
    "    \n",
    "    # Randomize position and scale on each frame\n",
    "    with rep.trigger.on_frame(num_frames=10):\n",
    "        with rep.create.group([torus, sphere, cube]):\n",
    "            rep.modify.pose(\n",
    "                position=rep.distribution.uniform((-300, 0, -300), (300, 0, 300)),\n",
    "                scale=rep.distribution.uniform(0.1, 2))"
   ]
  },
  {
   "cell_type": "markdown",
   "id": "cfe48d39",
   "metadata": {},
   "source": [
    "Lastly, data generated for each frame can then written to the disk. For this purpose, Replicator provides a default `Writer` that can be used as demonstrated in this example. In addition to the default writer, users can also create their own custom writer. This is demonstrated in one of the [subsequent tutorials](https://docs.omniverse.nvidia.com/prod_extensions/prod_extensions/ext_replicator/custom_writer.html).\n",
    "\n",
    "First we will create a `render_product` that attaches to our scene camera.  We will set an output resolution of 1024x1024 for our output images.\n",
    "\n",
    "The default Writer is initialized and is attached to the renderer to produce the output of the images, semantic segmentation, and annotations with 2D bounding boxes. Note the user can specify a specific output directory for the writer to use."
   ]
  },
  {
   "cell_type": "code",
   "execution_count": null,
   "id": "2b454e27-d8f2-4128-a4da-5ef4fabfb033",
   "metadata": {},
   "outputs": [],
   "source": [
    "import omni.replicator.core as rep\n",
    "\n",
    "with rep.new_layer():\n",
    "\n",
    "    camera = rep.create.camera(position=(0, 500, 1000), look_at=(0,0,0))\n",
    "\n",
    "    plane = rep.create.plane(semantics=[('class', 'plane')], position=(0,-100,0), scale=(100,1,100))\n",
    "    torus = rep.create.torus(semantics=[('class', 'torus')] , position=(200, 0 , 100))\n",
    "    sphere = rep.create.sphere(semantics=[('class', 'sphere')], position=(0, 0, 100))\n",
    "    cube = rep.create.cube(semantics=[('class', 'cube')],  position=(-200, 0, 100))\n",
    "    \n",
    "    with rep.trigger.on_frame(num_frames=10):\n",
    "        with rep.create.group([torus, sphere, cube]):\n",
    "            rep.modify.pose(\n",
    "                position=rep.distribution.uniform((-300, 0, -300), (300, 0, 300)),\n",
    "                scale=rep.distribution.uniform(0.1, 2))\n",
    "\n",
    "render_product = rep.create.render_product(camera, (1024, 1024))\n",
    "writer = rep.WriterRegistry.get(\"BasicWriter\")\n",
    "writer.initialize(run_id=1, output_dir=\"replicator_example\", rgb=True, semantic_segmentation=True, bounding_box_2d_tight=True)\n",
    "writer.attach([render_product])"
   ]
  },
  {
   "cell_type": "markdown",
   "id": "c8d59574",
   "metadata": {},
   "source": [
    "Now, let's see that script in action. To connect, you'll need to know the IP address of the remote server.  \n",
    "\n",
    "Execute the following cell to get the IP address and connect via the Omniverse Streaming client. If for some reason, you cannot connect you will find the way of running headlessly below. "
   ]
  },
  {
   "cell_type": "code",
   "execution_count": 6,
   "id": "aa0c45db",
   "metadata": {},
   "outputs": [
    {
     "name": "stdout",
     "output_type": "stream",
     "text": [
      "This instance IP address is: 34.219.32.45\n"
     ]
    }
   ],
   "source": [
    "from requests import get\n",
    "ip=get('https://api.ipify.org').text\n",
    "print('This instance IP address is: {}'.format(ip))"
   ]
  },
  {
   "cell_type": "markdown",
   "id": "acb65429-c864-4ea5-a5cd-872e8c050e4b",
   "metadata": {},
   "source": [
    "After connecting to the instance, go to the Script Editor and you type-in the script below, or use the included `Snippet` from the drop-down menu of the Script Editor."
   ]
  },
  {
   "cell_type": "code",
   "execution_count": null,
   "id": "2e806b61-bd71-49d5-90ce-992b79f1de8f",
   "metadata": {},
   "outputs": [],
   "source": [
    "import omni.replicator.core as rep\n",
    "\n",
    "with rep.new_layer():\n",
    "\n",
    "    camera = rep.create.camera(position=(0, 500, 1000), look_at=(0,0,0))\n",
    "\n",
    "    plane = rep.create.plane(semantics=[('class', 'plane')], position=(0,-100,0), scale=(100,1,100))\n",
    "    torus = rep.create.torus(semantics=[('class', 'torus')] , position=(200, 0 , 100))\n",
    "    sphere = rep.create.sphere(semantics=[('class', 'sphere')], position=(0, 0, 100))\n",
    "    cube = rep.create.cube(semantics=[('class', 'cube')],  position=(-200, 0, 100))\n",
    "    \n",
    "    with rep.trigger.on_frame(num_frames=10):\n",
    "        with rep.create.group([torus, sphere, cube]):\n",
    "            rep.modify.pose(\n",
    "                position=rep.distribution.uniform((-300, 0, -300), (300, 0, 300)),\n",
    "                scale=rep.distribution.uniform(0.1, 2))\n",
    "\n",
    "render_product = rep.create.render_product(camera, (1024, 1024))\n",
    "writer = rep.WriterRegistry.get(\"BasicWriter\")\n",
    "writer.initialize(run_id=1, output_dir=\"replicator_example\", rgb=True, semantic_segmentation=True, bounding_box_2d_tight=True)\n",
    "writer.attach([render_product])\n"
   ]
  },
  {
   "cell_type": "markdown",
   "id": "d6ae1024",
   "metadata": {},
   "source": [
    "To preview our randomizations, we can use `rep.orchestrator.preview()` in the Script Editor, or we can choose `Preview` from the `Replicator` drop-down at the top of our Omniverse Code toolbar."
   ]
  },
  {
   "cell_type": "markdown",
   "id": "6af24cc2-caa3-49c9-91f6-d7e970899d82",
   "metadata": {},
   "source": [
    "To generate all ten frames, change `rep.orchestrator.preview()` to `rep.orchestrator.run()`, or select `Run` from the `Replicator` drop-down menu. "
   ]
  },
  {
   "cell_type": "code",
   "execution_count": null,
   "id": "a9c6b89f",
   "metadata": {},
   "outputs": [],
   "source": [
    "import omni.replicator.core as rep\n",
    "\n",
    "with rep.new_layer():\n",
    "\n",
    "    camera = rep.create.camera(position=(0, 500, 1000), look_at=(0,0,0))\n",
    "\n",
    "    # Create simple shapes to manipulate\n",
    "    plane = rep.create.plane(semantics=[('class', 'plane')], position=(0,-100,0), scale=(100,1,100))\n",
    "    torus = rep.create.torus(semantics=[('class', 'torus')] , position=(200, 0 , 100))\n",
    "    sphere = rep.create.sphere(semantics=[('class', 'sphere')], position=(0, 0, 100))\n",
    "    cube = rep.create.cube(semantics=[('class', 'cube')],  position=(-200, 0, 100))\n",
    "    \n",
    "    # Randomize position and scale on each frame\n",
    "    with rep.trigger.on_frame(num_frames=10):\n",
    "        with rep.create.group([torus, sphere, cube]):\n",
    "            rep.modify.pose(\n",
    "                position=rep.distribution.uniform((-300, 0, -300), (300, 0, 300)),\n",
    "                scale=rep.distribution.uniform(0.1, 2))\n",
    "\n",
    "# Initialize render product and attach writer\n",
    "render_product = rep.create.render_product(camera, (1024, 1024))\n",
    "writer = rep.WriterRegistry.get(\"BasicWriter\")\n",
    "writer.initialize(output_dir=\"replicator_example\", rgb=True, semantic_segmentation=True, bounding_box_2d_tight=True)\n",
    "writer.attach([render_product])\n",
    "rep.orchestrator.run()"
   ]
  },
  {
   "cell_type": "markdown",
   "id": "9f90c76a",
   "metadata": {},
   "source": [
    "Below you can also see how you would run replicator headlessly. This may be needed if your are running at scale, or if for some reason you cannot connect to the client, or you want Omniverse to exit after completing.\n",
    "\n",
    "```!cd / && ./code_startup.sh  --allow-root --no-window --/omni/replicator/script=/dli/task/Replicator_scripts/hello_world.py```"
   ]
  },
  {
   "cell_type": "code",
   "execution_count": null,
   "id": "7a9b2744-ac0a-4186-89ec-a3d2fdf3932d",
   "metadata": {},
   "outputs": [],
   "source": [
    "!cd / && ./code_startup.sh  --allow-root --no-window --/omni/replicator/script=/dli/task/Replicator_scripts/hello_world.py"
   ]
  },
  {
   "cell_type": "markdown",
   "id": "77129951-7e75-4188-9551-6667b82fbe1c",
   "metadata": {
    "tags": []
   },
   "source": [
    "---\n",
    "# 2.0 Basic Randomizations with Replicator"
   ]
  },
  {
   "cell_type": "markdown",
   "id": "7242ff5f-2d4e-42c5-80b4-10b27aef77dc",
   "metadata": {},
   "source": [
    "## 2.1 Background Randomization"
   ]
  },
  {
   "cell_type": "markdown",
   "id": "3075a900-7ed7-4992-8562-f4eda193836e",
   "metadata": {},
   "source": [
    "The goal of this tutorial is to provide an introduction to the basic randomizations that can be done using Replicator. \n",
    "\n",
    "In this case, Omniverse Replicator is running in an `RTX GPU` instance on the `DLI` (Deep Learning Institute) platform. Omniverse is accesible through Omniverse Remote client or can run headlessly. For the best experience we recommend the client as shown in the Getting started notebook. \n",
    "To run the script follow set up instructions in Setting up the Script Editor.\n",
    "\n",
    "Building on what we have learnt in 1.0 Hello Replicator which is the basic scene set-up before randomizing placements of the basic shapes in the scene. Here, we guide you on how you can start to randomize your environments. First start by loading in the files of the various environments that you want to use for this series. In this case, we are using the 4 environments found within the Omniverse content browser, but there are many more to choose from. You can even import in your own .hdr files if you're trying this after you've completed the course."
   ]
  },
  {
   "cell_type": "code",
   "execution_count": null,
   "id": "a68bceed",
   "metadata": {},
   "outputs": [],
   "source": [
    "import omni.replicator.core as rep\n",
    "\n",
    "with rep.new_layer():\n",
    "    def dome_lights():\n",
    "        lights = rep.create.light(\n",
    "            light_type=\"Dome\",\n",
    "            rotation= (270,0,0),\n",
    "            texture=rep.distribution.choice([\n",
    "                'omniverse://localhost/NVIDIA/Assets/Skies/Cloudy/champagne_castle_1_4k.hdr',\n",
    "                'omniverse://localhost/NVIDIA/Assets/Skies/Clear/evening_road_01_4k.hdr',\n",
    "                'omniverse://localhost/NVIDIA/Assets/Skies/Cloudy/kloofendal_48d_partly_cloudy_4k.hdr',\n",
    "                'omniverse://localhost/NVIDIA/Assets/Skies/Clear/qwantani_4k.hdr'\n",
    "                ])\n",
    "            )\n",
    "        return lights.node\n",
    "\n",
    "    rep.randomizer.register(dome_lights)"
   ]
  },
  {
   "cell_type": "markdown",
   "id": "be4cf920",
   "metadata": {},
   "source": [
    "  Then we go ahead and create the object that we want to see in our scene, and in this case, we're choosing the torus that we used in 1.0. So we create that, then we go ahead to create the surface on which the object will reside, followed by the camera for this scene "
   ]
  },
  {
   "cell_type": "code",
   "execution_count": null,
   "id": "d76688d0",
   "metadata": {},
   "outputs": [],
   "source": [
    "import omni.replicator.core as rep\n",
    "\n",
    "with rep.new_layer():\n",
    "    def dome_lights():\n",
    "        lights = rep.create.light(\n",
    "            light_type=\"Dome\",\n",
    "            rotation= (270,0,0),\n",
    "            texture=rep.distribution.choice([\n",
    "                'omniverse://localhost/NVIDIA/Assets/Skies/Cloudy/champagne_castle_1_4k.hdr',\n",
    "                'omniverse://localhost/NVIDIA/Assets/Skies/Clear/evening_road_01_4k.hdr',\n",
    "                'omniverse://localhost/NVIDIA/Assets/Skies/Cloudy/kloofendal_48d_partly_cloudy_4k.hdr',\n",
    "                'omniverse://localhost/NVIDIA/Assets/Skies/Clear/qwantani_4k.hdr'\n",
    "                ])\n",
    "            )\n",
    "        return lights.node\n",
    "\n",
    "    rep.randomizer.register(dome_lights)    \n",
    "    torus = rep.create.torus(semantics=[('class', 'torus')] , position=(0, -200 , 100))\n",
    "    \n",
    "    #create surface\n",
    "    surface = rep.create.disk(scale=5, visible=False)\n",
    "    \n",
    "    #create camera for the scene \n",
    "    camera = rep.create.camera()\n",
    "    render_product = rep.create.render_product(camera, resolution=(1024, 1024))"
   ]
  },
  {
   "cell_type": "markdown",
   "id": "13735df0",
   "metadata": {},
   "source": [
    "Lastly, data generated for each frame is then written to the disk. Just like in the first example, we will use Replicator's built-in `BasicWriter` for this.\n",
    "\n",
    "In the following code, we use the BasicWriter which is initialized and is attached to the renderer to produce the output of the images and annotations with 2D bounding boxes. Note the user can specify a specific output directory for the writer to use."
   ]
  },
  {
   "cell_type": "code",
   "execution_count": null,
   "id": "8f8e5ea3",
   "metadata": {},
   "outputs": [],
   "source": [
    "import omni.replicator.core as rep\n",
    "\n",
    "with rep.new_layer():\n",
    "    def dome_lights():\n",
    "        lights = rep.create.light(\n",
    "            light_type=\"Dome\",\n",
    "            rotation= (270,0,0),\n",
    "            texture=rep.distribution.choice([\n",
    "                'omniverse://localhost/NVIDIA/Assets/Skies/Cloudy/champagne_castle_1_4k.hdr',\n",
    "                'omniverse://localhost/NVIDIA/Assets/Skies/Clear/evening_road_01_4k.hdr',\n",
    "                'omniverse://localhost/NVIDIA/Assets/Skies/Cloudy/kloofendal_48d_partly_cloudy_4k.hdr',\n",
    "                'omniverse://localhost/NVIDIA/Assets/Skies/Clear/qwantani_4k.hdr'\n",
    "                ])\n",
    "            )\n",
    "        return lights.node\n",
    "\n",
    "    rep.randomizer.register(dome_lights)    \n",
    "    torus = rep.create.torus(semantics=[('class', 'torus')] , position=(0, -200 , 100))\n",
    "    \n",
    "    #create surface\n",
    "    surface = rep.create.disk(scale=5, visible=False)\n",
    "    \n",
    "    #create camera & render product for the scene \n",
    "    camera = rep.create.camera()\n",
    "    render_product = rep.create.render_product(camera, resolution=(1024, 1024))\n",
    "\n",
    "    with rep.trigger.on_frame(num_frames=10,interval=10):\n",
    "        rep.randomizer.dome_lights()\n",
    "        with rep.create.group([torus]):\n",
    "            rep.modify.pose(\n",
    "                position=rep.distribution.uniform((-100, -100, -100), (200, 200, 200)),\n",
    "                scale=rep.distribution.uniform(0.1, 2))\n",
    "        with camera:\n",
    "            rep.modify.pose(position=rep.distribution.uniform((-500, 200, 1000), (500, 500, 1500)), look_at=surface)\n",
    "\n",
    "    # Initialize and attach writer\n",
    "    writer = rep.WriterRegistry.get(\"BasicWriter\")\n",
    "    \n",
    "    writer.initialize( output_dir=\"replicator_example_02\", rgb=True)\n",
    "    writer.attach([render_product])"
   ]
  },
  {
   "cell_type": "markdown",
   "id": "9d58bfa0-3cf7-44b6-a4ac-c950b7261e3d",
   "metadata": {},
   "source": [
    "## 2.2 Change Textures"
   ]
  },
  {
   "cell_type": "markdown",
   "id": "75aa9e0e-3645-4345-8573-7c61f8d74eb5",
   "metadata": {},
   "source": [
    "So you've learnt how to change the background environments of your scene for randomization! \n",
    "\n",
    "Now to the next level!\n",
    "\n",
    "Let’s create basic 3D shapes for our next scene. Users can also bring any custom 3D objects they may have already created. The tutorial Using the Replicator with a fully developed scene demonstrates the process to bring user generated assets within the scene. Notice when creating the assets, we add semantics, using the flag semantics. These semantics labels are added to the 3D shapes and used while generating annotations for the data."
   ]
  },
  {
   "cell_type": "code",
   "execution_count": null,
   "id": "f5d6e7ac",
   "metadata": {},
   "outputs": [],
   "source": [
    "import omni.replicator.core as rep\n",
    "\n",
    "#create new objects to be used in the dataset \n",
    "with rep.new_layer():\n",
    "    sphere = rep.create.sphere(semantics=[('class', 'sphere')], position=(0, 100, 100), count=5)\n",
    "    cube = rep.create.cube(semantics=[('class', 'cube')],  position=(200, 200 , 100),count=5 )\n",
    "    cone = rep.create.cone(semantics=[('class', 'cone')],  position=(200, 400 , 200),count=10 )\n",
    "    cylinder = rep.create.cylinder(semantics=[('class', 'cylinder')],  position=(200, 100 , 200),count=5 )"
   ]
  },
  {
   "cell_type": "markdown",
   "id": "814be623",
   "metadata": {},
   "source": [
    "After we have created our objects - note that users can create as many as they want - we are going to create our scene camera, and attach it to our render product. This is similar to what we have done above. By attaching it to the render product, we're ensuring that the randomized elements of our scenes, are captured by the camera and sent to be written by the Basic Writer. "
   ]
  },
  {
   "cell_type": "code",
   "execution_count": null,
   "id": "42531185",
   "metadata": {},
   "outputs": [],
   "source": [
    "# create new camera \n",
    "camera = rep.create.camera(position=(0, 0, 1000))\n",
    "\n",
    "# create render product and attach to camera\n",
    "render_product = rep.create.render_product(camera, (1024, 1024))\n",
    "#  create plane if needed (but unused here)\n",
    "plane = rep.create.plane(scale=10, visible=True)"
   ]
  },
  {
   "cell_type": "markdown",
   "id": "e08f4815",
   "metadata": {},
   "source": [
    "The lesson for this section comes here, and we now want to not only create our various objects in the scene, but we also want to make the textures randomized. So here we've added 4 textures for Replicator to choose from when alternating between the textures used for the randomization. Users are once again free to add their own textures, and even more textures if they want a higher degree of randomization to occur for this part. \n"
   ]
  },
  {
   "cell_type": "code",
   "execution_count": null,
   "id": "3b0498e4",
   "metadata": {},
   "outputs": [],
   "source": [
    "# function to get shapes that you've created above \n",
    "    def get_shapes():\n",
    "        shapes = rep.get.prims(semantics=[('class', 'cube'), ('class', 'sphere'), ('class', 'cone'),('class', 'cylinder')])\n",
    "        with shapes:\n",
    "        #assign textures to the different objects \n",
    "            rep.randomizer.texture(textures=[\n",
    "                    'omniverse://localhost/NVIDIA/Materials/vMaterials_2/Ground/textures/aggregate_exposed_diff.jpg',\n",
    "                    'omniverse://localhost/NVIDIA/Materials/vMaterials_2/Ground/textures/gravel_track_ballast_diff.jpg',\n",
    "                    'omniverse://localhost/NVIDIA/Materials/vMaterials_2/Ground/textures/gravel_track_ballast_multi_R_rough_G_ao.jpg',\n",
    "                    'omniverse://localhost/NVIDIA/Materials/vMaterials_2/Ground/textures/rough_gravel_rough.jpg'\n",
    "                    ])\n",
    "        \n",
    "        # modify pose and distribution \n",
    "            rep.modify.pose(\n",
    "                position=rep.distribution.uniform((-500, 50, -500), (500, 50, 500)),\n",
    "                rotation=rep.distribution.uniform((0,-180, 0), (0, 180, 0)),\n",
    "                scale=rep.distribution.normal(1, 0.5)\n",
    "            )\n",
    "        return shapes.node\n",
    "    # register the get shapes function as a randomizer function \n",
    "    rep.randomizer.register(get_shapes)"
   ]
  },
  {
   "cell_type": "markdown",
   "id": "13c9ca6d",
   "metadata": {},
   "source": [
    "Similar to the previous sections, here we run our randomization function, and proceed to write the data generated for each frame. For this purpose, Replicator provides a default Writer that can be used as demonstrated in this example. In addition to the default writer, users can also create their own custom writer.\n",
    "\n",
    "In the following code, we use the basic Writer which is initialized and is attached to the renderer to produce the output of the images and annotations with 2D bounding boxes. Note the user can specify a specific output directory for the writer to use."
   ]
  },
  {
   "cell_type": "code",
   "execution_count": null,
   "id": "8d3e00aa",
   "metadata": {},
   "outputs": [],
   "source": [
    "    # Setup randomization. 100 variations here from 'num_frames'\n",
    "    with rep.trigger.on_frame(num_frames=100):\n",
    "        rep.randomizer.get_shapes()\n",
    "        \n",
    "    # Initialize and attach writer\n",
    "    writer = rep.WriterRegistry.get(\"KittiWriter\")\n",
    "    # my own directory but use your relevant directory here \n",
    "    writer.initialize( output_dir=\"replicator_example_22\", rgb=True)\n",
    "\n",
    "    writer.attach([render_product])\n",
    "    \n",
    "    rep.orchestrator.run()"
   ]
  },
  {
   "cell_type": "markdown",
   "id": "0ed63b20-55ed-4f35-88f2-0755f37abe47",
   "metadata": {},
   "source": [
    "---\n",
    "# 3.0 Advanced Randomization and Challenge [WIP]"
   ]
  },
  {
   "cell_type": "markdown",
   "id": "57e34946-5d43-40fb-982b-5708ac6714bf",
   "metadata": {},
   "source": [
    "# 3.1 Importing multiple assets from designated folder at once"
   ]
  },
  {
   "cell_type": "markdown",
   "id": "a6ba65ce-8f32-44a2-bee2-c8e7657f835d",
   "metadata": {},
   "source": [
    "The goal of this tutorial is to help users apply what they have learnt in the previous sections to do a more advanced application of Replicator.\n",
    "\n",
    "Combining what we have learnt previously, now we seek to combine everything we have learnt and make a randomized dataset of furniture placements in various environments!\n",
    "\n",
    "Here we show you how to load in assets using the localhost, and collect all the objects that are within a designated folder. \n",
    "\n",
    "In the first part of this code, we create our environments that we want to vary throughout our run of Replicator.\n",
    "\n",
    "``` python\n",
    "\n",
    "import omni.replicator.core as rep\n",
    "\n",
    "\n",
    "with rep.new_layer():\n",
    "\n",
    "\n",
    "    def dome_lights():\n",
    "\n",
    "        lights = rep.create.light(\n",
    "            light_type=\"Dome\",\n",
    "            rotation= (270,0,0),\n",
    "            texture=rep.distribution.choice([\n",
    "                'omniverse://localhost/NVIDIA/Assets/Skies/Indoor/ZetoCGcom_ExhibitionHall_Interior1.hdr',\n",
    "                'omniverse://localhost/NVIDIA/Assets/Skies/Indoor/ZetoCG_com_WarehouseInterior2b.hdr',\n",
    "                ])\n",
    "            )\n",
    "        return lights.node\n",
    "    rep.randomizer.register(dome_lights)\n",
    "```\n",
    "\n",
    "Next, we will import assets from the Omniverse localhost library, more specifically, conference tables from the ArchVis library. Then, similar to what has been done previously, we will randomize the instance of the conference table chosen in this folder , then randomize the rotation and position of the folder. \n",
    "\n",
    "Note that here, the mode that is used is 'scene_instance' instead of the default, as this is needed while we work towards building a more complex scene.\n",
    "\n",
    "``` python    \n",
    "    conference_tables = 'omniverse://localhost/NVIDIA/Assets/ArchVis/Commercial/Conference/'\n",
    "\n",
    "\n",
    "    # create randomizer function conference table assets. \n",
    "    #This randomization includes placement and rotation of the assets on the surface.\n",
    "    def env_conference_table(size=5):\n",
    "        confTable = rep.randomizer.instantiate(rep.utils.get_usd_files(conference_tables, recursive=False), size=size, mode='scene_instance')\n",
    "        with confTable:\n",
    "            rep.modify.pose(\n",
    "                position=rep.distribution.uniform((-500, 0, -500), (500, 0, 500)),\n",
    "                rotation=rep.distribution.uniform((-90,-180, 0), (-90, 180, 0)),\n",
    "            )\n",
    "        return confTable.node\n",
    "    # Register randomization\n",
    "    rep.randomizer.register(env_conference_table)\n",
    "    \n",
    "    # Setup camera and attach it to render product\n",
    "    camera = rep.create.camera()\n",
    "    render_product = rep.create.render_product(camera, resolution=(1024, 1024))\n",
    "    \n",
    "\n",
    "    \n",
    "\n",
    "    surface = rep.create.disk(scale=100, visible=False)\n",
    "\n",
    "    # trigger on frame for an interval\n",
    "    with rep.trigger.on_frame(5):\n",
    "        rep.randomizer.env_conference_table(2)        \n",
    "        rep.randomizer.dome_lights()\n",
    "        with camera:\n",
    "            rep.modify.pose(position=rep.distribution.uniform((-500, 200, 1000), (500, 500, 1500)), look_at=surface)\n",
    "\n",
    "\n",
    "    # Initialize and attach writer\n",
    "    writer = rep.WriterRegistry.get(\"KittiWriter\")\n",
    "    writer.initialize(output_dir=\"furniture_rand_edit3_labelled\", rgb=True)\n",
    "    writer.attach([render_product])\n",
    "```\n"
   ]
  },
  {
   "cell_type": "markdown",
   "id": "5dc7c04f-1c7c-4dd9-a082-48e089d39054",
   "metadata": {},
   "source": [
    "## 3.2 Add variety of furniture and semantically label them"
   ]
  },
  {
   "cell_type": "markdown",
   "id": "017d9a43-9027-4e8d-8500-291dd7e999ed",
   "metadata": {},
   "source": [
    "So in this section we are going to show you how to add various furnitures from different locations, and to label them semantically using Replicator's labelling capabilities. \n",
    "\n",
    "First, we are going to do something similiar to what we have seen earlier - to add new layer, and add the environments that we want to see changing in the scene. Then, we go ahead and import the objects from 5 different locations, pasting in their links and assigning them to their respective objects. Users can also go ahead and import objects from scenes that are pre-existing, as well as locations outside of Omniverse's localhost domain.\n",
    "\n",
    "``` python\n",
    "\n",
    "import omni.replicator.core as rep\n",
    "\n",
    "\n",
    "with rep.new_layer():\n",
    "\n",
    "\n",
    "    def dome_lights():\n",
    "\n",
    "        lights = rep.create.light(\n",
    "            light_type=\"Dome\",\n",
    "            rotation= (270,0,0),\n",
    "            texture=rep.distribution.choice([\n",
    "                'omniverse://localhost/NVIDIA/Assets/Skies/Indoor/ZetoCGcom_ExhibitionHall_Interior1.hdr',\n",
    "                'omniverse://localhost/NVIDIA/Assets/Skies/Indoor/ZetoCG_com_WarehouseInterior2b.hdr',\n",
    "                ])\n",
    "            )\n",
    "        return lights.node\n",
    "    rep.randomizer.register(dome_lights)  \n",
    "    \n",
    "    # Add 5 different objects\n",
    "    bar_stools = 'omniverse://localhost/NVIDIA/Assets/ArchVis/Residential/Furniture/BarStools/'\n",
    "    reception_tables = 'omniverse://localhost/NVIDIA/Assets/ArchVis/Commercial/Reception/'\n",
    "    chairs = 'omniverse://localhost/NVIDIA/Assets/ArchVis/Commercial/Seating/'\n",
    "    normal_tables = 'omniverse://localhost/NVIDIA/Assets/ArchVis/Commercial/Tables/'\n",
    "    sofa_set = 'omniverse://localhost/NVIDIA/Assets/ArchVis/Residential/Furniture/FurnitureSets/Dutchtown/'\n",
    "```\n",
    "\n",
    "In this next part, we are going to instantiate the folder that we read in for barstool objects, and load them in. \n",
    "\n",
    "Then, we go ahead to add semantic labels to this object, and in this case we are calling this object 'chair_barstool'. You are free to choose whichever label you would like to have for your specific folders and objects, and it will be the label that will follow all instances of such objects from the same folder, in your whole generated dataset.\n",
    "\n",
    "```python\n",
    "\n",
    "    # create randomizer function conference table assets. \n",
    "    #This randomization includes placement and rotation of the assets on the surface.\n",
    "    def env_bar_stools(size=5):\n",
    "        barstool = rep.randomizer.instantiate(rep.utils.get_usd_files(bar_stools, recursive=False), size=size, mode='scene_instance')\n",
    "        rep.modify.semantics([('class', 'chair_barstool')])\n",
    "        with barstool:\n",
    "            rep.modify.pose(\n",
    "                position=rep.distribution.uniform((-500, 0, -500), (500, 0, 500)),\n",
    "                rotation=rep.distribution.uniform((-90,-180, 0), (-90, 180, 0)),\n",
    "            )\n",
    "        return barstool.node\n",
    "    # Register randomization\n",
    "    rep.randomizer.register(env_bar_stools)\n",
    "    \n",
    "  # Create functions for each object type / folder that you are importing assets from\n",
    "  # function_2(.......)\n",
    "  # function_3(.......)\n",
    "  # function_4(.......)\n",
    "  # function_5(.......)\n",
    "    \n",
    "\n",
    "```"
   ]
  },
  {
   "cell_type": "markdown",
   "id": "b2be0c3e-c99d-456a-8ecc-fde08cf22566",
   "metadata": {},
   "source": [
    "## 3.3 Exercise: Choose a variety of 5 furniture with labels, randomize their rotations, placements and the camera\n",
    "### Bonus Challenge: Add an additional randomized element e.g sphere_lights or vary the textures of the furniture in the scene"
   ]
  },
  {
   "cell_type": "markdown",
   "id": "4a79cbdb-a2f5-4bde-bbff-5d91936cf7d4",
   "metadata": {},
   "source": [
    "So now, for this exercise, it's your turn to create the script!\n",
    "\n",
    "Here are the guiding steps for this exercise.\n",
    "\n",
    "1) Define your function for your environment - how many environments HDRs would you like to change between?\n",
    "2) Register this new function you've created - you'll need to call it later in the rep.trigger.on_frame() function\n",
    "3) Decide on which are the 5 different furniture types you're planning to use, and what you will be labelling them as.\n",
    "4) Copy their file paths, and import them into the script\n",
    "5) Create randomizer functions for each of these 5 furniture types\n",
    "6) Within these randomizer functions, you should initiate the path, then semantically label it, followed by modification of the poses of those objects - namely the placement and rotations.\n",
    "(Bonus Challenge) If you would like to attempt the bonus challenge, create the sphere_lights function or a texture_randomizing function here\n",
    "7) Register all these functions, so that you can call them later in the rep.trigger.on_frame() function\n",
    "8) Create your viewing camera, as well as the surface that the camera will focus on\n",
    "9) Attach your camera that you just created, to the render product, for writing data later on\n",
    "10) Call the  with rep.trigger.on_frame(..) function, with all the relevant functions you've created, called within it\n",
    "11) Write the data that is generated in each frame, to a specific folder, using either KittiWriter or BasicWriter.\n",
    "12) Run the script, and view your very own generated synthetic data!\n",
    "\n",
    "Refer to the previous sections to get hints on how to complete this exercise!\n",
    "\n",
    "You can view the suggested solution in Section 3.4 below."
   ]
  },
  {
   "cell_type": "markdown",
   "id": "4b7a9083-26a0-45d7-ad36-ae994b8188a7",
   "metadata": {},
   "source": [
    "## 3.4 Solution for Exercise 3.3"
   ]
  },
  {
   "cell_type": "markdown",
   "id": "04909e45-4672-4fe1-bc22-bf86c3531984",
   "metadata": {},
   "source": [
    "### Congratulations! We believe you tried out the Exercise 3.3 and experienced great success in creating your own synthetic data! To give you more options and ideas on how such a script would look, below we have attached our suggested script on how we would complete Exercise 3.3!\n",
    "\n",
    "### Happy experimenting!"
   ]
  },
  {
   "cell_type": "code",
   "execution_count": null,
   "id": "5bab6c35",
   "metadata": {},
   "outputs": [],
   "source": [
    "import omni.replicator.core as rep\n",
    "\n",
    "with rep.new_layer():\n",
    "\n",
    "    def dome_lights():\n",
    "        lights = rep.create.light(\n",
    "            light_type=\"Dome\",\n",
    "            rotation=(270, 0, 0),\n",
    "            texture=rep.distribution.choice(\n",
    "                [\n",
    "                    \"omniverse://localhost/NVIDIA/Assets/Skies/Indoor/ZetoCGcom_ExhibitionHall_Interior1.hdr\",\n",
    "                    \"omniverse://localhost/NVIDIA/Assets/Skies/Indoor/ZetoCG_com_WarehouseInterior2b.hdr\",\n",
    "                ]\n",
    "            ),\n",
    "        )\n",
    "        return lights.node\n",
    "\n",
    "    rep.randomizer.register(dome_lights)\n",
    "\n",
    "    bar_stools = (\n",
    "        \"omniverse://localhost/NVIDIA/Assets/ArchVis/Residential/Furniture/BarStools/\"\n",
    "    )\n",
    "    reception_tables = (\n",
    "        \"omniverse://localhost/NVIDIA/Assets/ArchVis/Commercial/Reception/\"\n",
    "    )\n",
    "    chairs = \"omniverse://localhost/NVIDIA/Assets/ArchVis/Commercial/Seating/\"\n",
    "    normal_tables = \"omniverse://localhost/NVIDIA/Assets/ArchVis/Commercial/Tables/\"\n",
    "    sofa_set = \"omniverse://localhost/NVIDIA/Assets/ArchVis/Residential/Furniture/FurnitureSets/Dutchtown/\"\n",
    "\n",
    "    # create randomizer function conference table assets.\n",
    "    # This randomization includes placement and rotation of the assets on the surface.\n",
    "    def env_bar_stools(size=5):\n",
    "        barstool = rep.randomizer.instantiate(\n",
    "            rep.utils.get_usd_files(bar_stools, recursive=False),\n",
    "            size=size,\n",
    "            mode=\"scene_instance\",\n",
    "        )\n",
    "        rep.modify.semantics([(\"class\", \"chair_barstool\")])\n",
    "        with barstool:\n",
    "            rep.modify.pose(\n",
    "                position=rep.distribution.uniform((-500, 0, -500), (500, 0, 500)),\n",
    "                rotation=rep.distribution.uniform((-90, -180, 0), (-90, 180, 0)),\n",
    "            )\n",
    "        return barstool.node\n",
    "\n",
    "    # Register randomization\n",
    "    rep.randomizer.register(env_bar_stools)\n",
    "\n",
    "    # create randomizer function conference table assets.\n",
    "    # This randomization includes placement and rotation of the assets on the surface.\n",
    "    def env_reception_table(size=5):\n",
    "        receptTable = rep.randomizer.instantiate(\n",
    "            rep.utils.get_usd_files(reception_tables, recursive=False),\n",
    "            size=size,\n",
    "            mode=\"scene_instance\",\n",
    "        )\n",
    "        rep.modify.semantics([(\"class\", \"reception_table\")])\n",
    "        with receptTable:\n",
    "            rep.modify.pose(\n",
    "                position=rep.distribution.uniform((-500, 0, -500), (500, 0, 500)),\n",
    "                rotation=rep.distribution.uniform((-90, -180, 0), (-90, 180, 0)),\n",
    "            )\n",
    "        return receptTable.node\n",
    "\n",
    "    # Register randomization\n",
    "    rep.randomizer.register(env_reception_table)\n",
    "\n",
    "    # create randomizer function conference table assets.\n",
    "    # This randomization includes placement and rotation of the assets on the surface.\n",
    "    def env_chairs_notable(size=10):\n",
    "        chairsEnv = rep.randomizer.instantiate(\n",
    "            rep.utils.get_usd_files(chairs, recursive=False),\n",
    "            size=size,\n",
    "            mode=\"scene_instance\",\n",
    "        )\n",
    "        rep.modify.semantics([(\"class\", \"office_chairs\")])\n",
    "        with chairsEnv:\n",
    "            rep.modify.pose(\n",
    "                position=rep.distribution.uniform((-500, 0, -500), (500, 0, 500)),\n",
    "                rotation=rep.distribution.uniform((-90, -180, 0), (-90, 180, 0)),\n",
    "            )\n",
    "        return chairsEnv.node\n",
    "\n",
    "    # Register randomization\n",
    "    rep.randomizer.register(env_chairs_notable)\n",
    "\n",
    "    # create randomizer function conference table assets.\n",
    "    # This randomization includes placement and rotation of the assets on the surface.\n",
    "    def env_normal_table(size=5):\n",
    "        normTable = rep.randomizer.instantiate(\n",
    "            rep.utils.get_usd_files(normal_tables, recursive=False),\n",
    "            size=size,\n",
    "            mode=\"scene_instance\",\n",
    "        )\n",
    "        rep.modify.semantics([(\"class\", \"normal_table\")])\n",
    "        with normTable:\n",
    "            rep.modify.pose(\n",
    "                position=rep.distribution.uniform((-500, 0, -500), (500, 0, 500)),\n",
    "                rotation=rep.distribution.uniform((-90, -180, 0), (-90, 180, 0)),\n",
    "            )\n",
    "        return normTable.node\n",
    "\n",
    "    # Register randomization\n",
    "    rep.randomizer.register(env_normal_table)\n",
    "\n",
    "    # create randomizer function conference table assets.\n",
    "    # This randomization includes placement and rotation of the assets on the surface.\n",
    "    def env_sofaset(size=5):\n",
    "        sofaset = rep.randomizer.instantiate(\n",
    "            rep.utils.get_usd_files(sofa_set, recursive=False),\n",
    "            size=size,\n",
    "            mode=\"scene_instance\",\n",
    "        )\n",
    "        rep.modify.semantics([(\"class\", \"sofa\")])\n",
    "        with sofaset:\n",
    "            rep.modify.pose(\n",
    "                position=rep.distribution.uniform((-500, 0, -500), (500, 0, 500)),\n",
    "                rotation=rep.distribution.uniform((-90, -180, 0), (-90, 180, 0)),\n",
    "            )\n",
    "        return sofaset.node\n",
    "\n",
    "    # Register randomization\n",
    "    rep.randomizer.register(env_sofaset)\n",
    "\n",
    "    # Setup camera and attach it to render product\n",
    "    camera = rep.create.camera()\n",
    "    render_product = rep.create.render_product(camera, resolution=(1024, 1024))\n",
    "\n",
    "    # sphere lights for bonus challenge randomization\n",
    "    def sphere_lights(num):\n",
    "        lights = rep.create.light(\n",
    "            light_type=\"Sphere\",\n",
    "            temperature=rep.distribution.normal(6500, 500),\n",
    "            intensity=rep.distribution.normal(35000, 5000),\n",
    "            position=rep.distribution.uniform((-300, -300, -300), (300, 300, 300)),\n",
    "            scale=rep.distribution.uniform(50, 100),\n",
    "            count=num,\n",
    "        )\n",
    "        return lights.node\n",
    "\n",
    "    rep.randomizer.register(sphere_lights)\n",
    "\n",
    "    # create the surface for the camera to focus on\n",
    "    surface = rep.create.disk(scale=100, visible=False)\n",
    "\n",
    "    # trigger on frame for an interval\n",
    "    with rep.trigger.on_frame(5):\n",
    "        rep.randomizer.env_bar_stools(2)\n",
    "        rep.randomizer.env_reception_table(2)\n",
    "        rep.randomizer.env_chairs_notable(2)\n",
    "        rep.randomizer.env_normal_table(2)\n",
    "        rep.randomizer.env_sofaset(2)\n",
    "\n",
    "        # rep.randomizer.sphere_lights(10)\n",
    "        rep.randomizer.dome_lights()\n",
    "        with camera:\n",
    "            rep.modify.pose(\n",
    "                position=rep.distribution.uniform((-500, 200, 1000), (500, 500, 1500)),\n",
    "                look_at=surface,\n",
    "            )\n",
    "\n",
    "    # Initialize and attach writer\n",
    "    writer = rep.WriterRegistry.get(\"BasicWriter\")\n",
    "    writer.initialize(output_dir=\"replicator_example_33\", rgb=True)\n",
    "    writer.attach([render_product])\n"
   ]
  },
  {
   "cell_type": "code",
   "execution_count": null,
   "id": "7f37c78e",
   "metadata": {},
   "outputs": [],
   "source": []
  },
  {
   "attachments": {},
   "cell_type": "markdown",
   "id": "e94641b1",
   "metadata": {
    "tags": []
   },
   "source": [
    "---\n",
    "<h2 style=\"color:green;\">Congratulations!</h2>\n",
    "\n",
    "In this lab, you have learned about:\n",
    "- What is Omniverse Replicator\n",
    "- Creating simple shapes, cameras, lights, and 3D assets from a Nucleus server\n",
    "- Using Replicator to make randomizations on objects\n",
    "- Writing images and annotations to disk"
   ]
  },
  {
   "cell_type": "markdown",
   "id": "a5e94c0f",
   "metadata": {},
   "source": [
    "<a href=\"https://www.nvidia.com/dli\"> <img src=\"images/DLI_Header.png\" alt=\"Header\" style=\"width: 400px;\"/> </a>"
   ]
  }
 ],
 "metadata": {
  "kernelspec": {
   "display_name": "Python 3",
   "language": "python",
   "name": "python3"
  },
  "language_info": {
   "codemirror_mode": {
    "name": "ipython",
    "version": 3
   },
   "file_extension": ".py",
   "mimetype": "text/x-python",
   "name": "python",
   "nbconvert_exporter": "python",
   "pygments_lexer": "ipython3",
   "version": "3.7.9"
  },
  "vscode": {
   "interpreter": {
    "hash": "a61027dd82f138c11773bdf35712ca03ae38c9dcb5e13e07ad518c836e552bc0"
   }
  }
 },
 "nbformat": 4,
 "nbformat_minor": 5
}
