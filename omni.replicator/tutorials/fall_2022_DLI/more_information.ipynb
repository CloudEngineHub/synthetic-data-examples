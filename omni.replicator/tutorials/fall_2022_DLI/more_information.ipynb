{
 "cells": [
  {
   "cell_type": "markdown",
   "id": "7925aad5",
   "metadata": {},
   "source": [
    "<a href=\"https://www.nvidia.com/dli\"> <img src=\"images/DLI_Header.png\" alt=\"Header\" style=\"width: 400px;\"/> </a>"
   ]
  },
  {
   "cell_type": "markdown",
   "id": "9d578eea",
   "metadata": {
    "tags": []
   },
   "source": [
    "# Additional Help and Information\n",
    "\n",
    "Here is a list of recommended reading and videos:\n",
    "- [Documentation and tutorials](https://docs.omniverse.nvidia.com/prod_extensions/prod_extensions/ext_replicator.html)\n",
    "- [GTC Talk](https://docs.omniverse.nvidia.com/prod_extensions/prod_extensions/ext_replicator.html)\n",
    "- [Replicator landing page with blogs](https://developer.nvidia.com/nvidia-omniverse-platform/replicator#:~:text=DRIVE%20Replicator%20is%20a%20purpose,the%20NVIDIA%20DRIVE%20Sim%20platform.)\n",
    "- [Omniverse Synthetic Data Forum](https://forums.developer.nvidia.com/c/omniverse/synthetic-data-generation-sdg/595)"
   ]
  },
  {
   "cell_type": "markdown",
   "id": "a5e94c0f",
   "metadata": {},
   "source": [
    "<a href=\"https://www.nvidia.com/dli\"> <img src=\"images/DLI_Header.png\" alt=\"Header\" style=\"width: 400px;\"/> </a>"
   ]
  }
 ],
 "metadata": {
  "kernelspec": {
   "display_name": "Python 3.10.6 64-bit ('3.10.6')",
   "language": "python",
   "name": "python3"
  },
  "language_info": {
   "codemirror_mode": {
    "name": "ipython",
    "version": 3
   },
   "file_extension": ".py",
   "mimetype": "text/x-python",
   "name": "python",
   "nbconvert_exporter": "python",
   "pygments_lexer": "ipython3",
   "version": "3.10.6"
  },
  "vscode": {
   "interpreter": {
    "hash": "6e75d9671bde9e237d0449067a77b1b23886bc055a4cc69b493f52615e9e42e3"
   }
  }
 },
 "nbformat": 4,
 "nbformat_minor": 5
}
